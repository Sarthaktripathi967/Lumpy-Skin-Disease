{
  "cells": [
    {
      "cell_type": "code",
      "execution_count": null,
      "metadata": {
        "id": "zG-M26ZPC5SS"
      },
      "outputs": [],
      "source": [
        "import tensorflow as tf\n",
        "\n",
        "import matplotlib.pyplot as plt\n",
        "import matplotlib.image as mpimg\n",
        "from tensorflow import keras"
      ]
    },
    {
      "cell_type": "code",
      "execution_count": null,
      "metadata": {
        "id": "bSSudfN-DhX7"
      },
      "outputs": [],
      "source": [
        "from keras.preprocessing.image import ImageDataGenerator\n",
        "from tensorflow.keras.utils import img_to_array, array_to_img, load_img\n",
        "\n",
        "base_dir = 'Dataset'\n",
        "train_datagen = ImageDataGenerator(rescale=1./255, \n",
        "                                   shear_range=0.2,\n",
        "                                   zoom_range=0.2, \n",
        "                                   horizontal_flip=True,\n",
        "                                   width_shift_range=0.1,\n",
        "                                   height_shift_range=0.1,\n",
        "                                   validation_split=0.2\n",
        "                                   )\n",
        "validation_gen = ImageDataGenerator(rescale=1./255,validation_split=0.2)"
      ]
    },
    {
      "cell_type": "code",
      "execution_count": null,
      "metadata": {
        "colab": {
          "base_uri": "https://localhost:8080/"
        },
        "id": "BZvvmFdbE7fX",
        "outputId": "3a80c1ed-8404-4cbf-f248-e47913f13620"
      },
      "outputs": [
        {
          "output_type": "stream",
          "name": "stdout",
          "text": [
            "Found 4603 images belonging to 3 classes.\n"
          ]
        }
      ],
      "source": [
        "image_size = (224, 224)\n",
        "train_data_dir = '/content/drive/MyDrive/images/train'\n",
        "test_data_dir = '/content/drive/MyDrive/images/test'\n",
        "training_set = train_datagen.flow_from_directory(train_data_dir,\n",
        "                                                 seed=101,                                                 \n",
        "                                                 target_size=image_size,\n",
        "                                                 batch_size=32,\n",
        "                                                 subset = \"training\",\n",
        "                                                 class_mode='categorical')"
      ]
    },
    {
      "cell_type": "code",
      "execution_count": null,
      "metadata": {
        "colab": {
          "base_uri": "https://localhost:8080/"
        },
        "id": "_VQRBBhiF5YG",
        "outputId": "07409bca-b114-4a4c-c3eb-3f0f5abd1884"
      },
      "outputs": [
        {
          "output_type": "stream",
          "name": "stdout",
          "text": [
            "Found 286 images belonging to 3 classes.\n"
          ]
        }
      ],
      "source": [
        "validation_set = validation_gen.flow_from_directory(test_data_dir, \n",
        "                                               target_size=image_size,\n",
        "                                               batch_size=32, \n",
        "                                               subset = \"validation\",\n",
        "                                               class_mode='categorical')"
      ]
    },
    {
      "cell_type": "code",
      "execution_count": null,
      "metadata": {
        "id": "AWW37K73ufDj"
      },
      "outputs": [],
      "source": [
        "## Conv2D model\n",
        "\n",
        "import keras\n",
        "from keras.models import Sequential\n",
        "from tensorflow.keras.layers import Conv2D, MaxPooling2D, Flatten,LSTM, Reshape\n",
        "from tensorflow.keras.layers import Activation, Dense, Dropout\n",
        "model = Sequential([\n",
        "            \n",
        "    Conv2D(filters=32,kernel_size=(3,3),  input_shape = (224, 224, 3),activation='relu'),\n",
        "    MaxPooling2D(pool_size=(2,2)),\n",
        "\n",
        "    Conv2D(filters=32,kernel_size=(3,3), activation='relu'),\n",
        "    MaxPooling2D(pool_size=(2,2)),\n",
        "    Dropout(0.25),\n",
        "\n",
        "    Conv2D(filters=64,kernel_size=(3,3), activation='relu'),\n",
        "    MaxPooling2D(pool_size=(2,2)),\n",
        "    Dropout(0.25),\n",
        "    \n",
        "    Flatten(),\n",
        "    # LSTM(32),\n",
        "    Dense(32, activation='relu'),\n",
        "    Dropout(0.25),\n",
        "    Dense(3, activation='softmax')\n",
        "])"
      ]
    },
    {
      "cell_type": "code",
      "execution_count": null,
      "metadata": {
        "colab": {
          "base_uri": "https://localhost:8080/"
        },
        "id": "Jok4UZQELtRP",
        "outputId": "b8815ab7-3543-4c7b-bf98-749c2bd92606"
      },
      "outputs": [
        {
          "output_type": "stream",
          "name": "stdout",
          "text": [
            "Model: \"sequential_2\"\n",
            "_________________________________________________________________\n",
            " Layer (type)                Output Shape              Param #   \n",
            "=================================================================\n",
            " conv2d_6 (Conv2D)           (None, 222, 222, 32)      896       \n",
            "                                                                 \n",
            " max_pooling2d_6 (MaxPooling  (None, 111, 111, 32)     0         \n",
            " 2D)                                                             \n",
            "                                                                 \n",
            " conv2d_7 (Conv2D)           (None, 109, 109, 32)      9248      \n",
            "                                                                 \n",
            " max_pooling2d_7 (MaxPooling  (None, 54, 54, 32)       0         \n",
            " 2D)                                                             \n",
            "                                                                 \n",
            " dropout_6 (Dropout)         (None, 54, 54, 32)        0         \n",
            "                                                                 \n",
            " conv2d_8 (Conv2D)           (None, 52, 52, 64)        18496     \n",
            "                                                                 \n",
            " max_pooling2d_8 (MaxPooling  (None, 26, 26, 64)       0         \n",
            " 2D)                                                             \n",
            "                                                                 \n",
            " dropout_7 (Dropout)         (None, 26, 26, 64)        0         \n",
            "                                                                 \n",
            " flatten_2 (Flatten)         (None, 43264)             0         \n",
            "                                                                 \n",
            " dense_4 (Dense)             (None, 32)                1384480   \n",
            "                                                                 \n",
            " dropout_8 (Dropout)         (None, 32)                0         \n",
            "                                                                 \n",
            " dense_5 (Dense)             (None, 3)                 99        \n",
            "                                                                 \n",
            "=================================================================\n",
            "Total params: 1,413,219\n",
            "Trainable params: 1,413,219\n",
            "Non-trainable params: 0\n",
            "_________________________________________________________________\n"
          ]
        }
      ],
      "source": [
        "model.summary()"
      ]
    },
    {
      "cell_type": "code",
      "execution_count": null,
      "metadata": {
        "id": "RtICSvIEruyH"
      },
      "outputs": [],
      "source": [
        "from keras import backend as K\n",
        "\n",
        "def recall_m(y_true, y_pred):\n",
        "    true_positives = K.sum(K.round(K.clip(y_true * y_pred, 0, 1)))\n",
        "    possible_positives = K.sum(K.round(K.clip(y_true, 0, 1)))\n",
        "    recall = true_positives / (possible_positives + K.epsilon())\n",
        "    return recall\n",
        "\n",
        "def precision_m(y_true, y_pred):\n",
        "    true_positives = K.sum(K.round(K.clip(y_true * y_pred, 0, 1)))\n",
        "    predicted_positives = K.sum(K.round(K.clip(y_pred, 0, 1)))\n",
        "    precision = true_positives / (predicted_positives + K.epsilon())\n",
        "    return precision\n",
        "\n",
        "def f1_m(y_true, y_pred):\n",
        "    precision = precision_m(y_true, y_pred)\n",
        "    recall = recall_m(y_true, y_pred)\n",
        "    return 2*((precision*recall)/(precision+recall+K.epsilon()))\n"
      ]
    },
    {
      "cell_type": "code",
      "execution_count": null,
      "metadata": {
        "id": "TFEZnCn1GA6q"
      },
      "outputs": [],
      "source": [
        "model.compile(optimizer='adam',\n",
        "              loss=keras.losses.CategoricalCrossentropy(),\n",
        "              metrics=[keras.metrics.CategoricalAccuracy(),precision_m,recall_m,f1_m])"
      ]
    },
    {
      "cell_type": "code",
      "execution_count": null,
      "metadata": {
        "colab": {
          "base_uri": "https://localhost:8080/"
        },
        "id": "rgOXYSPZI9n-",
        "outputId": "35b883bc-384d-4d7f-d252-539039d4a405"
      },
      "outputs": [
        {
          "output_type": "stream",
          "name": "stdout",
          "text": [
            "Epoch 1/30\n",
            "144/144 [==============================] - 1914s 13s/step - loss: 1.1611 - categorical_accuracy: 0.3441 - precision_m: 0.0167 - recall_m: 0.0106 - f1_m: 0.0118 - val_loss: 1.0981 - val_categorical_accuracy: 0.3462 - val_precision_m: 0.0000e+00 - val_recall_m: 0.0000e+00 - val_f1_m: 0.0000e+00\n",
            "Epoch 2/30\n",
            "144/144 [==============================] - 69s 482ms/step - loss: 1.0983 - categorical_accuracy: 0.3374 - precision_m: 0.0000e+00 - recall_m: 0.0000e+00 - f1_m: 0.0000e+00 - val_loss: 1.0980 - val_categorical_accuracy: 0.3427 - val_precision_m: 0.0000e+00 - val_recall_m: 0.0000e+00 - val_f1_m: 0.0000e+00\n",
            "Epoch 3/30\n",
            "144/144 [==============================] - 69s 480ms/step - loss: 1.0982 - categorical_accuracy: 0.3289 - precision_m: 0.0000e+00 - recall_m: 0.0000e+00 - f1_m: 0.0000e+00 - val_loss: 1.0977 - val_categorical_accuracy: 0.3427 - val_precision_m: 0.0000e+00 - val_recall_m: 0.0000e+00 - val_f1_m: 0.0000e+00\n",
            "Epoch 4/30\n",
            "144/144 [==============================] - 69s 481ms/step - loss: 1.0982 - categorical_accuracy: 0.3439 - precision_m: 0.0000e+00 - recall_m: 0.0000e+00 - f1_m: 0.0000e+00 - val_loss: 1.0977 - val_categorical_accuracy: 0.3427 - val_precision_m: 0.0000e+00 - val_recall_m: 0.0000e+00 - val_f1_m: 0.0000e+00\n",
            "Epoch 5/30\n",
            "144/144 [==============================] - 69s 478ms/step - loss: 1.0981 - categorical_accuracy: 0.3439 - precision_m: 0.0000e+00 - recall_m: 0.0000e+00 - f1_m: 0.0000e+00 - val_loss: 1.0977 - val_categorical_accuracy: 0.3427 - val_precision_m: 0.0000e+00 - val_recall_m: 0.0000e+00 - val_f1_m: 0.0000e+00\n",
            "Epoch 6/30\n",
            "144/144 [==============================] - 69s 482ms/step - loss: 1.0982 - categorical_accuracy: 0.3439 - precision_m: 0.0000e+00 - recall_m: 0.0000e+00 - f1_m: 0.0000e+00 - val_loss: 1.0977 - val_categorical_accuracy: 0.3427 - val_precision_m: 0.0000e+00 - val_recall_m: 0.0000e+00 - val_f1_m: 0.0000e+00\n",
            "Epoch 7/30\n",
            "144/144 [==============================] - 70s 483ms/step - loss: 1.0982 - categorical_accuracy: 0.3439 - precision_m: 0.0000e+00 - recall_m: 0.0000e+00 - f1_m: 0.0000e+00 - val_loss: 1.0977 - val_categorical_accuracy: 0.3427 - val_precision_m: 0.0000e+00 - val_recall_m: 0.0000e+00 - val_f1_m: 0.0000e+00\n",
            "Epoch 8/30\n",
            "144/144 [==============================] - 71s 491ms/step - loss: 1.0982 - categorical_accuracy: 0.3439 - precision_m: 0.0000e+00 - recall_m: 0.0000e+00 - f1_m: 0.0000e+00 - val_loss: 1.0977 - val_categorical_accuracy: 0.3427 - val_precision_m: 0.0000e+00 - val_recall_m: 0.0000e+00 - val_f1_m: 0.0000e+00\n"
          ]
        }
      ],
      "source": [
        "# for Conv2D model\n",
        "from tensorflow.keras.callbacks import ModelCheckpoint, EarlyStopping\n",
        "callback = EarlyStopping(monitor='loss', patience=3)\n",
        "history = model.fit(training_set,validation_data=validation_set, epochs=30,callbacks=[callback])"
      ]
    },
    {
      "cell_type": "code",
      "execution_count": null,
      "metadata": {
        "id": "N9H7l5S3YG_P"
      },
      "outputs": [],
      "source": [
        "#for Conv2D model\n",
        "\n",
        "metrics_train = model.evaluate(training_set)\n",
        "metrics_test = model.evaluate(validation_set)\n",
        "\n",
        "print(f\"TRAIN_SET: {metrics_train}\")\n",
        "print(\"--------------------------------------------\")\n",
        "print(f\"TEST_SET: {metrics_test}\")"
      ]
    },
    {
      "cell_type": "code",
      "execution_count": null,
      "metadata": {
        "id": "0J-kkUfOtzwO"
      },
      "outputs": [],
      "source": [
        "import matplotlib.pyplot as plt\n",
        "\n",
        "# summarize history for accuracy\n",
        "plt.plot(history.history['categorical_accuracy'])\n",
        "plt.plot(history.history['val_categorical_accuracy'])\n",
        "plt.title('model accuracy')\n",
        "plt.ylabel('accuracy')\n",
        "plt.xlabel('epoch')\n",
        "plt.legend(['Train', 'Validation'], loc='upper left')\n",
        "plt.show()\n"
      ]
    },
    {
      "cell_type": "code",
      "execution_count": null,
      "metadata": {
        "id": "DwIGI6WE6Mk2"
      },
      "outputs": [],
      "source": [
        "# summarize history for loss\n",
        "plt.plot(history.history['loss'])\n",
        "plt.plot(history.history['val_loss'])\n",
        "plt.title('model loss')\n",
        "plt.ylabel('loss')\n",
        "plt.xlabel('epoch')\n",
        "plt.legend(['Train', 'Validation'], loc='upper left')\n",
        "plt.show()"
      ]
    },
    {
      "cell_type": "code",
      "source": [
        "model.save(\"/content/drive/MyDrive/models/CNN2D.h5\")"
      ],
      "metadata": {
        "id": "FBSZJyeP0aoW"
      },
      "execution_count": null,
      "outputs": []
    }
  ],
  "metadata": {
    "accelerator": "GPU",
    "colab": {
      "provenance": []
    },
    "gpuClass": "standard",
    "kernelspec": {
      "display_name": "Python 3",
      "name": "python3"
    },
    "language_info": {
      "name": "python"
    }
  },
  "nbformat": 4,
  "nbformat_minor": 0
}